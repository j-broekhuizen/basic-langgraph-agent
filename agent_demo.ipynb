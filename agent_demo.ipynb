{
 "cells": [
  {
   "cell_type": "code",
   "execution_count": 1,
   "id": "cf7d6127",
   "metadata": {},
   "outputs": [
    {
     "data": {
      "text/plain": [
       "<langgraph_sdk.client.LangGraphClient at 0x11a1dded0>"
      ]
     },
     "execution_count": 1,
     "metadata": {},
     "output_type": "execute_result"
    }
   ],
   "source": [
    "from langgraph_sdk import get_client\n",
    "from langchain_core.messages import HumanMessage\n",
    "import uuid\n",
    "\n",
    "# Connect to local LangGraph server\n",
    "client = get_client(url=\"http://localhost:2024\")\n",
    "client"
   ]
  },
  {
   "cell_type": "code",
   "execution_count": 2,
   "id": "13d17212",
   "metadata": {},
   "outputs": [
    {
     "name": "stdout",
     "output_type": "stream",
     "text": [
      "Available assistants:\n",
      "ID: fe096781-5601-53d2-b2f6-0d3403f7e9ca, Name: agent\n",
      "\n",
      "Using assistant ID: fe096781-5601-53d2-b2f6-0d3403f7e9ca\n"
     ]
    }
   ],
   "source": [
    "# Get available assistants\n",
    "assistants = await client.assistants.search()\n",
    "print(\"Available assistants:\")\n",
    "for assistant in assistants:\n",
    "    print(f\"ID: {assistant['assistant_id']}, Name: {assistant.get('name', 'N/A')}\")\n",
    "\n",
    "# Use the first assistant ID if available\n",
    "if assistants:\n",
    "    assistant_id = assistants[0]['assistant_id']\n",
    "    print(f\"\\nUsing assistant ID: {assistant_id}\")\n",
    "else:\n",
    "    print(\"No assistants found\")"
   ]
  },
  {
   "cell_type": "code",
   "execution_count": 3,
   "id": "9c8c3c29",
   "metadata": {},
   "outputs": [
    {
     "name": "stdout",
     "output_type": "stream",
     "text": [
      "Created thread ID: 7afe8a4f-da14-4811-b36c-5077cff1c7fb\n"
     ]
    }
   ],
   "source": [
    "# Create a thread\n",
    "thread = await client.threads.create()\n",
    "thread_id = thread['thread_id']\n",
    "print(f\"Created thread ID: {thread_id}\")\n",
    "\n",
    "# Create a human message\n",
    "message = HumanMessage(content=\"Hello! Can you help me with a simple task?\")"
   ]
  },
  {
   "cell_type": "code",
   "execution_count": null,
   "id": "56fc0242",
   "metadata": {},
   "outputs": [],
   "source": [
    "# Stream the response and persist to the thread\n",
    "async for chunk in client.runs.stream(\n",
    "    thread_id=thread_id,\n",
    "    assistant_id=assistant_id,\n",
    "    input={\"messages\": [message]},\n",
    "    stream_mode=\"values\"\n",
    "):\n",
    "    print(chunk)"
   ]
  },
  {
   "cell_type": "code",
   "execution_count": 5,
   "id": "4ef8b94a",
   "metadata": {},
   "outputs": [
    {
     "name": "stdout",
     "output_type": "stream",
     "text": [
      "Hello! Can you help me with a simple task?\n",
      "Of course! I'm here to help. What do you need assistance with?\n"
     ]
    }
   ],
   "source": [
    "result = await client.runs.wait(\n",
    "    thread_id=thread_id,\n",
    "    assistant_id=assistant_id,\n",
    "    input={\"messages\": [message]}\n",
    ")\n",
    "\n",
    "messages = [m[\"content\"] for m in result[\"messages\"]]\n",
    "for message in messages:\n",
    "    print(message)"
   ]
  },
  {
   "cell_type": "code",
   "execution_count": 6,
   "id": "a222de5f",
   "metadata": {},
   "outputs": [
    {
     "name": "stdout",
     "output_type": "stream",
     "text": [
      "Hello! Can you help me with a simple task?\n",
      "Of course! I'm here to help. What do you need assistance with?\n",
      "I want to know more about the USS Enterprise\n",
      "The USS Enterprise is a name that has been used for multiple ships in the United States Navy and is also famous for its presence in the Star Trek franchise. Here's a brief overview of both:\n",
      "\n",
      "1. **USS Enterprise (Navy Ships)**:\n",
      "   - **USS Enterprise (CV-6)**: This was a Yorktown-class aircraft carrier that served during World War II. It was one of the most decorated ships of the war and played a crucial role in several battles, including the Battle of Midway.\n",
      "   - **USS Enterprise (CVN-65)**: This was the world's first nuclear-powered aircraft carrier. Commissioned in 1961, it served for over 50 years before being decommissioned in 2012. It was the eighth naval vessel to bear the name Enterprise.\n",
      "\n",
      "2. **USS Enterprise (Star Trek)**:\n",
      "   - The starship USS Enterprise is a central element in the Star Trek universe. The most famous is the USS Enterprise (NCC-1701), commanded by Captain James T. Kirk in the original series. Different iterations and classes of the Enterprise appear throughout the various Star Trek series and films, each with its unique adventures and crew.\n",
      "\n",
      "If you have a specific aspect or version of the USS Enterprise you're interested in, feel free to ask for more details!\n"
     ]
    }
   ],
   "source": [
    "result2 = await client.runs.wait(\n",
    "    thread_id=thread_id,\n",
    "    assistant_id=assistant_id,\n",
    "    input={\"messages\": [HumanMessage(content=\"I want to know more about the USS Enterprise\")]}\n",
    ")\n",
    "\n",
    "messages = [m[\"content\"] for m in result2[\"messages\"]]\n",
    "for message in messages:\n",
    "    print(message)"
   ]
  }
 ],
 "metadata": {
  "kernelspec": {
   "display_name": ".venv",
   "language": "python",
   "name": "python3"
  },
  "language_info": {
   "codemirror_mode": {
    "name": "ipython",
    "version": 3
   },
   "file_extension": ".py",
   "mimetype": "text/x-python",
   "name": "python",
   "nbconvert_exporter": "python",
   "pygments_lexer": "ipython3",
   "version": "3.11.12"
  }
 },
 "nbformat": 4,
 "nbformat_minor": 5
}
